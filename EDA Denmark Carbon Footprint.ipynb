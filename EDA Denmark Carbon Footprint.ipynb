{
 "cells": [
  {
   "cell_type": "code",
   "execution_count": 1,
   "id": "1e6740fe-8038-472d-8654-9e230dc099d5",
   "metadata": {},
   "outputs": [],
   "source": [
    "import pandas as pd"
   ]
  },
  {
   "cell_type": "code",
   "execution_count": 2,
   "id": "8a61e29f-a257-4917-896c-d2b067315195",
   "metadata": {},
   "outputs": [
    {
     "name": "stdout",
     "output_type": "stream",
     "text": [
      "Requirement already satisfied: openpyxl in ./.local/lib/python3.8/site-packages (3.1.0)\n",
      "Requirement already satisfied: et-xmlfile in ./.local/lib/python3.8/site-packages (from openpyxl) (1.1.0)\n",
      "Note: you may need to restart the kernel to use updated packages.\n"
     ]
    }
   ],
   "source": [
    "pip install openpyxl"
   ]
  },
  {
   "cell_type": "markdown",
   "id": "fc480d85-76db-49c9-8eb5-3522d1ffa75c",
   "metadata": {},
   "source": [
    "You would need install this before you can read your excel data. Also, restart the kernel after installation "
   ]
  },
  {
   "cell_type": "code",
   "execution_count": 42,
   "id": "1ed9fcb7-1e4e-4109-aa48-28ec1cbd6567",
   "metadata": {},
   "outputs": [],
   "source": [
    "data=pd.read_excel('data/EDA_sample.xlsx')"
   ]
  },
  {
   "cell_type": "markdown",
   "id": "ad637317-a628-458d-ac46-9fe7edccae93",
   "metadata": {},
   "source": [
    "##            Getting a General Overview of the Dataset"
   ]
  },
  {
   "cell_type": "code",
   "execution_count": 43,
   "id": "9b1c217b-d9bd-441b-97ed-0cf99f471a34",
   "metadata": {},
   "outputs": [
    {
     "data": {
      "text/plain": [
       "Index(['HourUTC', 'HourDK', 'PriceArea', 'FuelAllocationMethod', 'Edition',\n",
       "       'CO2originPerkWh', 'CO2PerkWh', 'SO2PerkWh', 'NOxPerkWh', 'NMvocPerkWh',\n",
       "       'CH4PerkWh', 'COPerkWh', 'N2OPerkWh', 'ParticlesPerkWh',\n",
       "       'CoalFlyAshPerkWh', 'CoalSlagPerkWh', 'DesulpPerkWh',\n",
       "       'FuelGasWastePerkWh', 'BioashPerkWh', 'WasteSlagPerkWh',\n",
       "       'RadioactiveWastePerkWh'],\n",
       "      dtype='object')"
      ]
     },
     "execution_count": 43,
     "metadata": {},
     "output_type": "execute_result"
    }
   ],
   "source": [
    "data.columns\n",
    "#To know the column names or the variables you are working with"
   ]
  },
  {
   "cell_type": "code",
   "execution_count": 40,
   "id": "4ce0581c-cfb4-49a0-a778-4d9104eb8157",
   "metadata": {},
   "outputs": [
    {
     "data": {
      "text/plain": [
       "(96, 21)"
      ]
     },
     "execution_count": 40,
     "metadata": {},
     "output_type": "execute_result"
    }
   ],
   "source": [
    "data.shape\n",
    "#To see the number of rows and columns"
   ]
  },
  {
   "cell_type": "markdown",
   "id": "87d8d8b4-6ef8-484d-acca-38d0c7785982",
   "metadata": {},
   "source": [
    "There are 96 rows and 21 columns. A very manageable dataset\n",
    " that would not need a lot of memory for processing"
   ]
  },
  {
   "cell_type": "code",
   "execution_count": 36,
   "id": "14011c4e-5e91-4afe-bd6b-c6025c0d39ea",
   "metadata": {},
   "outputs": [],
   "source": [
    "pd.options.display.max_columns=None\n",
    "# Run this command to be able to see all columns when using head\n",
    "# and tail "
   ]
  },
  {
   "cell_type": "code",
   "execution_count": 57,
   "id": "41e96b91-243c-46df-86f0-fd21bceed1b6",
   "metadata": {},
   "outputs": [
    {
     "data": {
      "text/html": [
       "<div>\n",
       "<style scoped>\n",
       "    .dataframe tbody tr th:only-of-type {\n",
       "        vertical-align: middle;\n",
       "    }\n",
       "\n",
       "    .dataframe tbody tr th {\n",
       "        vertical-align: top;\n",
       "    }\n",
       "\n",
       "    .dataframe thead th {\n",
       "        text-align: right;\n",
       "    }\n",
       "</style>\n",
       "<table border=\"1\" class=\"dataframe\">\n",
       "  <thead>\n",
       "    <tr style=\"text-align: right;\">\n",
       "      <th></th>\n",
       "      <th>HourUTC</th>\n",
       "      <th>HourDK</th>\n",
       "      <th>PriceArea</th>\n",
       "      <th>FuelAllocationMethod</th>\n",
       "      <th>Edition</th>\n",
       "      <th>CO2originPerkWh</th>\n",
       "      <th>CO2PerkWh</th>\n",
       "      <th>SO2PerkWh</th>\n",
       "      <th>NOxPerkWh</th>\n",
       "      <th>NMvocPerkWh</th>\n",
       "      <th>CH4PerkWh</th>\n",
       "      <th>COPerkWh</th>\n",
       "      <th>N2OPerkWh</th>\n",
       "      <th>ParticlesPerkWh</th>\n",
       "      <th>CoalFlyAshPerkWh</th>\n",
       "      <th>CoalSlagPerkWh</th>\n",
       "      <th>DesulpPerkWh</th>\n",
       "      <th>FuelGasWastePerkWh</th>\n",
       "      <th>BioashPerkWh</th>\n",
       "      <th>WasteSlagPerkWh</th>\n",
       "      <th>RadioactiveWastePerkWh</th>\n",
       "    </tr>\n",
       "  </thead>\n",
       "  <tbody>\n",
       "    <tr>\n",
       "      <th>0</th>\n",
       "      <td>2022-12-31 22:00:00</td>\n",
       "      <td>2022-12-31 23:00:00</td>\n",
       "      <td>DK1</td>\n",
       "      <td>125%</td>\n",
       "      <td>B</td>\n",
       "      <td>257.602099</td>\n",
       "      <td>150.413023</td>\n",
       "      <td>31.409801</td>\n",
       "      <td>163.570535</td>\n",
       "      <td>30.786481</td>\n",
       "      <td>193.176921</td>\n",
       "      <td>172.315473</td>\n",
       "      <td>2.791324</td>\n",
       "      <td>15.932002</td>\n",
       "      <td>4.500404</td>\n",
       "      <td>0.774586</td>\n",
       "      <td>1.636257</td>\n",
       "      <td>0.546645</td>\n",
       "      <td>0.845374</td>\n",
       "      <td>3.608821</td>\n",
       "      <td>0.103303</td>\n",
       "    </tr>\n",
       "    <tr>\n",
       "      <th>1</th>\n",
       "      <td>2022-12-31 22:00:00</td>\n",
       "      <td>2022-12-31 23:00:00</td>\n",
       "      <td>DK2</td>\n",
       "      <td>125%</td>\n",
       "      <td>B</td>\n",
       "      <td>178.014428</td>\n",
       "      <td>56.871128</td>\n",
       "      <td>20.932828</td>\n",
       "      <td>130.563110</td>\n",
       "      <td>27.672242</td>\n",
       "      <td>123.354464</td>\n",
       "      <td>153.010466</td>\n",
       "      <td>2.042565</td>\n",
       "      <td>19.650789</td>\n",
       "      <td>1.571945</td>\n",
       "      <td>0.270555</td>\n",
       "      <td>0.571551</td>\n",
       "      <td>0.611379</td>\n",
       "      <td>1.068439</td>\n",
       "      <td>4.036177</td>\n",
       "      <td>0.034892</td>\n",
       "    </tr>\n",
       "    <tr>\n",
       "      <th>2</th>\n",
       "      <td>2022-12-31 21:00:00</td>\n",
       "      <td>2022-12-31 22:00:00</td>\n",
       "      <td>DK1</td>\n",
       "      <td>125%</td>\n",
       "      <td>B</td>\n",
       "      <td>259.929122</td>\n",
       "      <td>147.105104</td>\n",
       "      <td>32.041665</td>\n",
       "      <td>176.526649</td>\n",
       "      <td>34.897375</td>\n",
       "      <td>223.184641</td>\n",
       "      <td>187.705972</td>\n",
       "      <td>2.872162</td>\n",
       "      <td>16.995329</td>\n",
       "      <td>4.305546</td>\n",
       "      <td>0.741048</td>\n",
       "      <td>1.565415</td>\n",
       "      <td>0.586614</td>\n",
       "      <td>0.861331</td>\n",
       "      <td>3.872689</td>\n",
       "      <td>0.119272</td>\n",
       "    </tr>\n",
       "    <tr>\n",
       "      <th>3</th>\n",
       "      <td>2022-12-31 21:00:00</td>\n",
       "      <td>2022-12-31 22:00:00</td>\n",
       "      <td>DK2</td>\n",
       "      <td>125%</td>\n",
       "      <td>B</td>\n",
       "      <td>194.475579</td>\n",
       "      <td>65.174806</td>\n",
       "      <td>22.250589</td>\n",
       "      <td>136.570368</td>\n",
       "      <td>28.406221</td>\n",
       "      <td>125.105701</td>\n",
       "      <td>160.895687</td>\n",
       "      <td>2.194613</td>\n",
       "      <td>20.639240</td>\n",
       "      <td>1.867593</td>\n",
       "      <td>0.321440</td>\n",
       "      <td>0.679042</td>\n",
       "      <td>0.638358</td>\n",
       "      <td>1.153075</td>\n",
       "      <td>4.214285</td>\n",
       "      <td>0.050709</td>\n",
       "    </tr>\n",
       "    <tr>\n",
       "      <th>4</th>\n",
       "      <td>2022-12-31 20:00:00</td>\n",
       "      <td>2022-12-31 21:00:00</td>\n",
       "      <td>DK1</td>\n",
       "      <td>125%</td>\n",
       "      <td>B</td>\n",
       "      <td>258.957092</td>\n",
       "      <td>131.980813</td>\n",
       "      <td>28.446963</td>\n",
       "      <td>189.778125</td>\n",
       "      <td>41.187513</td>\n",
       "      <td>270.875855</td>\n",
       "      <td>213.886175</td>\n",
       "      <td>2.922054</td>\n",
       "      <td>18.659764</td>\n",
       "      <td>3.851529</td>\n",
       "      <td>0.662905</td>\n",
       "      <td>1.400351</td>\n",
       "      <td>0.650415</td>\n",
       "      <td>0.946867</td>\n",
       "      <td>4.293888</td>\n",
       "      <td>0.102008</td>\n",
       "    </tr>\n",
       "  </tbody>\n",
       "</table>\n",
       "</div>"
      ],
      "text/plain": [
       "              HourUTC              HourDK PriceArea FuelAllocationMethod  \\\n",
       "0 2022-12-31 22:00:00 2022-12-31 23:00:00       DK1                 125%   \n",
       "1 2022-12-31 22:00:00 2022-12-31 23:00:00       DK2                 125%   \n",
       "2 2022-12-31 21:00:00 2022-12-31 22:00:00       DK1                 125%   \n",
       "3 2022-12-31 21:00:00 2022-12-31 22:00:00       DK2                 125%   \n",
       "4 2022-12-31 20:00:00 2022-12-31 21:00:00       DK1                 125%   \n",
       "\n",
       "  Edition  CO2originPerkWh   CO2PerkWh  SO2PerkWh   NOxPerkWh  NMvocPerkWh  \\\n",
       "0       B       257.602099  150.413023  31.409801  163.570535    30.786481   \n",
       "1       B       178.014428   56.871128  20.932828  130.563110    27.672242   \n",
       "2       B       259.929122  147.105104  32.041665  176.526649    34.897375   \n",
       "3       B       194.475579   65.174806  22.250589  136.570368    28.406221   \n",
       "4       B       258.957092  131.980813  28.446963  189.778125    41.187513   \n",
       "\n",
       "    CH4PerkWh    COPerkWh  N2OPerkWh  ParticlesPerkWh  CoalFlyAshPerkWh  \\\n",
       "0  193.176921  172.315473   2.791324        15.932002          4.500404   \n",
       "1  123.354464  153.010466   2.042565        19.650789          1.571945   \n",
       "2  223.184641  187.705972   2.872162        16.995329          4.305546   \n",
       "3  125.105701  160.895687   2.194613        20.639240          1.867593   \n",
       "4  270.875855  213.886175   2.922054        18.659764          3.851529   \n",
       "\n",
       "   CoalSlagPerkWh  DesulpPerkWh  FuelGasWastePerkWh  BioashPerkWh  \\\n",
       "0        0.774586      1.636257            0.546645      0.845374   \n",
       "1        0.270555      0.571551            0.611379      1.068439   \n",
       "2        0.741048      1.565415            0.586614      0.861331   \n",
       "3        0.321440      0.679042            0.638358      1.153075   \n",
       "4        0.662905      1.400351            0.650415      0.946867   \n",
       "\n",
       "   WasteSlagPerkWh  RadioactiveWastePerkWh  \n",
       "0         3.608821                0.103303  \n",
       "1         4.036177                0.034892  \n",
       "2         3.872689                0.119272  \n",
       "3         4.214285                0.050709  \n",
       "4         4.293888                0.102008  "
      ]
     },
     "execution_count": 57,
     "metadata": {},
     "output_type": "execute_result"
    }
   ],
   "source": [
    "data.head()\n",
    "# You get to see the first 5 rows in a dataframe format"
   ]
  },
  {
   "cell_type": "code",
   "execution_count": 56,
   "id": "f6b3e2ac-476e-4e91-a1e7-e81a5f5af131",
   "metadata": {},
   "outputs": [
    {
     "data": {
      "text/html": [
       "<div>\n",
       "<style scoped>\n",
       "    .dataframe tbody tr th:only-of-type {\n",
       "        vertical-align: middle;\n",
       "    }\n",
       "\n",
       "    .dataframe tbody tr th {\n",
       "        vertical-align: top;\n",
       "    }\n",
       "\n",
       "    .dataframe thead th {\n",
       "        text-align: right;\n",
       "    }\n",
       "</style>\n",
       "<table border=\"1\" class=\"dataframe\">\n",
       "  <thead>\n",
       "    <tr style=\"text-align: right;\">\n",
       "      <th></th>\n",
       "      <th>HourUTC</th>\n",
       "      <th>HourDK</th>\n",
       "      <th>PriceArea</th>\n",
       "      <th>FuelAllocationMethod</th>\n",
       "      <th>Edition</th>\n",
       "      <th>CO2originPerkWh</th>\n",
       "      <th>CO2PerkWh</th>\n",
       "      <th>SO2PerkWh</th>\n",
       "      <th>NOxPerkWh</th>\n",
       "      <th>NMvocPerkWh</th>\n",
       "      <th>CH4PerkWh</th>\n",
       "      <th>COPerkWh</th>\n",
       "      <th>N2OPerkWh</th>\n",
       "      <th>ParticlesPerkWh</th>\n",
       "      <th>CoalFlyAshPerkWh</th>\n",
       "      <th>CoalSlagPerkWh</th>\n",
       "      <th>DesulpPerkWh</th>\n",
       "      <th>FuelGasWastePerkWh</th>\n",
       "      <th>BioashPerkWh</th>\n",
       "      <th>WasteSlagPerkWh</th>\n",
       "      <th>RadioactiveWastePerkWh</th>\n",
       "    </tr>\n",
       "  </thead>\n",
       "  <tbody>\n",
       "    <tr>\n",
       "      <th>91</th>\n",
       "      <td>2022-12-30 01:00:00</td>\n",
       "      <td>2022-12-30 02:00:00</td>\n",
       "      <td>DK2</td>\n",
       "      <td>125%</td>\n",
       "      <td>B</td>\n",
       "      <td>198.793196</td>\n",
       "      <td>55.009352</td>\n",
       "      <td>15.180784</td>\n",
       "      <td>113.328385</td>\n",
       "      <td>8.557447</td>\n",
       "      <td>16.362818</td>\n",
       "      <td>114.369495</td>\n",
       "      <td>1.757353</td>\n",
       "      <td>12.993626</td>\n",
       "      <td>1.670657</td>\n",
       "      <td>0.287545</td>\n",
       "      <td>0.607800</td>\n",
       "      <td>0.656809</td>\n",
       "      <td>1.470945</td>\n",
       "      <td>4.336101</td>\n",
       "      <td>0.032228</td>\n",
       "    </tr>\n",
       "    <tr>\n",
       "      <th>92</th>\n",
       "      <td>2022-12-30 00:00:00</td>\n",
       "      <td>2022-12-30 01:00:00</td>\n",
       "      <td>DK1</td>\n",
       "      <td>125%</td>\n",
       "      <td>B</td>\n",
       "      <td>80.217287</td>\n",
       "      <td>35.193045</td>\n",
       "      <td>7.014064</td>\n",
       "      <td>48.700543</td>\n",
       "      <td>6.140112</td>\n",
       "      <td>33.619585</td>\n",
       "      <td>45.989531</td>\n",
       "      <td>0.784419</td>\n",
       "      <td>4.774269</td>\n",
       "      <td>1.161597</td>\n",
       "      <td>0.199928</td>\n",
       "      <td>0.422713</td>\n",
       "      <td>0.348677</td>\n",
       "      <td>0.383873</td>\n",
       "      <td>2.301885</td>\n",
       "      <td>0.007365</td>\n",
       "    </tr>\n",
       "    <tr>\n",
       "      <th>93</th>\n",
       "      <td>2022-12-30 00:00:00</td>\n",
       "      <td>2022-12-30 01:00:00</td>\n",
       "      <td>DK2</td>\n",
       "      <td>125%</td>\n",
       "      <td>B</td>\n",
       "      <td>210.664158</td>\n",
       "      <td>46.799817</td>\n",
       "      <td>14.670538</td>\n",
       "      <td>115.478198</td>\n",
       "      <td>9.521026</td>\n",
       "      <td>17.947012</td>\n",
       "      <td>129.098720</td>\n",
       "      <td>1.828162</td>\n",
       "      <td>14.557812</td>\n",
       "      <td>1.315507</td>\n",
       "      <td>0.226418</td>\n",
       "      <td>0.478777</td>\n",
       "      <td>0.704907</td>\n",
       "      <td>1.687100</td>\n",
       "      <td>4.653630</td>\n",
       "      <td>0.024893</td>\n",
       "    </tr>\n",
       "    <tr>\n",
       "      <th>94</th>\n",
       "      <td>2022-12-29 23:00:00</td>\n",
       "      <td>2022-12-30 00:00:00</td>\n",
       "      <td>DK1</td>\n",
       "      <td>125%</td>\n",
       "      <td>B</td>\n",
       "      <td>93.492166</td>\n",
       "      <td>40.624742</td>\n",
       "      <td>8.144242</td>\n",
       "      <td>53.627748</td>\n",
       "      <td>6.479147</td>\n",
       "      <td>33.340244</td>\n",
       "      <td>52.299144</td>\n",
       "      <td>0.897134</td>\n",
       "      <td>5.539694</td>\n",
       "      <td>1.360420</td>\n",
       "      <td>0.234148</td>\n",
       "      <td>0.495007</td>\n",
       "      <td>0.372007</td>\n",
       "      <td>0.469084</td>\n",
       "      <td>2.455905</td>\n",
       "      <td>0.013509</td>\n",
       "    </tr>\n",
       "    <tr>\n",
       "      <th>95</th>\n",
       "      <td>2022-12-29 23:00:00</td>\n",
       "      <td>2022-12-30 00:00:00</td>\n",
       "      <td>DK2</td>\n",
       "      <td>125%</td>\n",
       "      <td>B</td>\n",
       "      <td>197.013287</td>\n",
       "      <td>20.254442</td>\n",
       "      <td>13.329339</td>\n",
       "      <td>121.738897</td>\n",
       "      <td>9.936342</td>\n",
       "      <td>19.822132</td>\n",
       "      <td>134.954229</td>\n",
       "      <td>1.689604</td>\n",
       "      <td>14.773785</td>\n",
       "      <td>0.116381</td>\n",
       "      <td>0.020031</td>\n",
       "      <td>0.042883</td>\n",
       "      <td>0.800318</td>\n",
       "      <td>1.808457</td>\n",
       "      <td>5.283513</td>\n",
       "      <td>0.017928</td>\n",
       "    </tr>\n",
       "  </tbody>\n",
       "</table>\n",
       "</div>"
      ],
      "text/plain": [
       "               HourUTC              HourDK PriceArea FuelAllocationMethod  \\\n",
       "91 2022-12-30 01:00:00 2022-12-30 02:00:00       DK2                 125%   \n",
       "92 2022-12-30 00:00:00 2022-12-30 01:00:00       DK1                 125%   \n",
       "93 2022-12-30 00:00:00 2022-12-30 01:00:00       DK2                 125%   \n",
       "94 2022-12-29 23:00:00 2022-12-30 00:00:00       DK1                 125%   \n",
       "95 2022-12-29 23:00:00 2022-12-30 00:00:00       DK2                 125%   \n",
       "\n",
       "   Edition  CO2originPerkWh  CO2PerkWh  SO2PerkWh   NOxPerkWh  NMvocPerkWh  \\\n",
       "91       B       198.793196  55.009352  15.180784  113.328385     8.557447   \n",
       "92       B        80.217287  35.193045   7.014064   48.700543     6.140112   \n",
       "93       B       210.664158  46.799817  14.670538  115.478198     9.521026   \n",
       "94       B        93.492166  40.624742   8.144242   53.627748     6.479147   \n",
       "95       B       197.013287  20.254442  13.329339  121.738897     9.936342   \n",
       "\n",
       "    CH4PerkWh    COPerkWh  N2OPerkWh  ParticlesPerkWh  CoalFlyAshPerkWh  \\\n",
       "91  16.362818  114.369495   1.757353        12.993626          1.670657   \n",
       "92  33.619585   45.989531   0.784419         4.774269          1.161597   \n",
       "93  17.947012  129.098720   1.828162        14.557812          1.315507   \n",
       "94  33.340244   52.299144   0.897134         5.539694          1.360420   \n",
       "95  19.822132  134.954229   1.689604        14.773785          0.116381   \n",
       "\n",
       "    CoalSlagPerkWh  DesulpPerkWh  FuelGasWastePerkWh  BioashPerkWh  \\\n",
       "91        0.287545      0.607800            0.656809      1.470945   \n",
       "92        0.199928      0.422713            0.348677      0.383873   \n",
       "93        0.226418      0.478777            0.704907      1.687100   \n",
       "94        0.234148      0.495007            0.372007      0.469084   \n",
       "95        0.020031      0.042883            0.800318      1.808457   \n",
       "\n",
       "    WasteSlagPerkWh  RadioactiveWastePerkWh  \n",
       "91         4.336101                0.032228  \n",
       "92         2.301885                0.007365  \n",
       "93         4.653630                0.024893  \n",
       "94         2.455905                0.013509  \n",
       "95         5.283513                0.017928  "
      ]
     },
     "execution_count": 56,
     "metadata": {},
     "output_type": "execute_result"
    }
   ],
   "source": [
    "data.tail()\n",
    "#To see the last 5 rows"
   ]
  },
  {
   "cell_type": "code",
   "execution_count": 55,
   "id": "65b94b5a-a724-409c-a91f-1fd534cc6f0c",
   "metadata": {},
   "outputs": [
    {
     "data": {
      "text/html": [
       "<div>\n",
       "<style scoped>\n",
       "    .dataframe tbody tr th:only-of-type {\n",
       "        vertical-align: middle;\n",
       "    }\n",
       "\n",
       "    .dataframe tbody tr th {\n",
       "        vertical-align: top;\n",
       "    }\n",
       "\n",
       "    .dataframe thead th {\n",
       "        text-align: right;\n",
       "    }\n",
       "</style>\n",
       "<table border=\"1\" class=\"dataframe\">\n",
       "  <thead>\n",
       "    <tr style=\"text-align: right;\">\n",
       "      <th></th>\n",
       "      <th>CO2originPerkWh</th>\n",
       "      <th>CO2PerkWh</th>\n",
       "      <th>SO2PerkWh</th>\n",
       "      <th>NOxPerkWh</th>\n",
       "      <th>NMvocPerkWh</th>\n",
       "      <th>CH4PerkWh</th>\n",
       "      <th>COPerkWh</th>\n",
       "      <th>N2OPerkWh</th>\n",
       "      <th>ParticlesPerkWh</th>\n",
       "      <th>CoalFlyAshPerkWh</th>\n",
       "      <th>CoalSlagPerkWh</th>\n",
       "      <th>DesulpPerkWh</th>\n",
       "      <th>FuelGasWastePerkWh</th>\n",
       "      <th>BioashPerkWh</th>\n",
       "      <th>WasteSlagPerkWh</th>\n",
       "      <th>RadioactiveWastePerkWh</th>\n",
       "    </tr>\n",
       "  </thead>\n",
       "  <tbody>\n",
       "    <tr>\n",
       "      <th>count</th>\n",
       "      <td>96.000000</td>\n",
       "      <td>96.000000</td>\n",
       "      <td>96.000000</td>\n",
       "      <td>96.000000</td>\n",
       "      <td>96.000000</td>\n",
       "      <td>96.000000</td>\n",
       "      <td>96.000000</td>\n",
       "      <td>96.000000</td>\n",
       "      <td>96.000000</td>\n",
       "      <td>96.000000</td>\n",
       "      <td>96.000000</td>\n",
       "      <td>96.000000</td>\n",
       "      <td>96.000000</td>\n",
       "      <td>96.000000</td>\n",
       "      <td>96.000000</td>\n",
       "      <td>96.000000</td>\n",
       "    </tr>\n",
       "    <tr>\n",
       "      <th>mean</th>\n",
       "      <td>180.144254</td>\n",
       "      <td>74.848174</td>\n",
       "      <td>18.463189</td>\n",
       "      <td>113.276253</td>\n",
       "      <td>18.610576</td>\n",
       "      <td>92.897101</td>\n",
       "      <td>122.891852</td>\n",
       "      <td>1.848389</td>\n",
       "      <td>13.670592</td>\n",
       "      <td>2.348632</td>\n",
       "      <td>0.404234</td>\n",
       "      <td>0.854106</td>\n",
       "      <td>0.534414</td>\n",
       "      <td>0.953747</td>\n",
       "      <td>3.528077</td>\n",
       "      <td>0.057078</td>\n",
       "    </tr>\n",
       "    <tr>\n",
       "      <th>std</th>\n",
       "      <td>47.058206</td>\n",
       "      <td>25.044103</td>\n",
       "      <td>6.839496</td>\n",
       "      <td>43.807109</td>\n",
       "      <td>12.880816</td>\n",
       "      <td>81.447273</td>\n",
       "      <td>54.274488</td>\n",
       "      <td>0.569242</td>\n",
       "      <td>6.530338</td>\n",
       "      <td>0.936050</td>\n",
       "      <td>0.161108</td>\n",
       "      <td>0.340319</td>\n",
       "      <td>0.192097</td>\n",
       "      <td>0.427407</td>\n",
       "      <td>1.268182</td>\n",
       "      <td>0.038379</td>\n",
       "    </tr>\n",
       "    <tr>\n",
       "      <th>min</th>\n",
       "      <td>70.428476</td>\n",
       "      <td>20.254442</td>\n",
       "      <td>6.226973</td>\n",
       "      <td>43.731304</td>\n",
       "      <td>5.446157</td>\n",
       "      <td>15.640817</td>\n",
       "      <td>41.728332</td>\n",
       "      <td>0.703438</td>\n",
       "      <td>4.208489</td>\n",
       "      <td>0.116381</td>\n",
       "      <td>0.020031</td>\n",
       "      <td>0.042883</td>\n",
       "      <td>0.236887</td>\n",
       "      <td>0.242490</td>\n",
       "      <td>1.563870</td>\n",
       "      <td>0.007270</td>\n",
       "    </tr>\n",
       "    <tr>\n",
       "      <th>25%</th>\n",
       "      <td>146.487918</td>\n",
       "      <td>58.086630</td>\n",
       "      <td>13.649051</td>\n",
       "      <td>83.575872</td>\n",
       "      <td>7.835223</td>\n",
       "      <td>20.351373</td>\n",
       "      <td>81.011309</td>\n",
       "      <td>1.499396</td>\n",
       "      <td>9.139520</td>\n",
       "      <td>1.796521</td>\n",
       "      <td>0.309208</td>\n",
       "      <td>0.653259</td>\n",
       "      <td>0.347134</td>\n",
       "      <td>0.555999</td>\n",
       "      <td>2.291697</td>\n",
       "      <td>0.034272</td>\n",
       "    </tr>\n",
       "    <tr>\n",
       "      <th>50%</th>\n",
       "      <td>185.180658</td>\n",
       "      <td>67.203856</td>\n",
       "      <td>16.442943</td>\n",
       "      <td>110.471271</td>\n",
       "      <td>9.415603</td>\n",
       "      <td>36.042493</td>\n",
       "      <td>114.253850</td>\n",
       "      <td>1.794529</td>\n",
       "      <td>12.443153</td>\n",
       "      <td>2.080741</td>\n",
       "      <td>0.358126</td>\n",
       "      <td>0.756725</td>\n",
       "      <td>0.589976</td>\n",
       "      <td>0.979054</td>\n",
       "      <td>3.894884</td>\n",
       "      <td>0.045770</td>\n",
       "    </tr>\n",
       "    <tr>\n",
       "      <th>75%</th>\n",
       "      <td>206.427330</td>\n",
       "      <td>92.091741</td>\n",
       "      <td>23.165767</td>\n",
       "      <td>134.865707</td>\n",
       "      <td>28.108784</td>\n",
       "      <td>148.317155</td>\n",
       "      <td>158.296354</td>\n",
       "      <td>2.079181</td>\n",
       "      <td>18.356098</td>\n",
       "      <td>2.618848</td>\n",
       "      <td>0.450742</td>\n",
       "      <td>0.952193</td>\n",
       "      <td>0.657509</td>\n",
       "      <td>1.340735</td>\n",
       "      <td>4.340724</td>\n",
       "      <td>0.059698</td>\n",
       "    </tr>\n",
       "    <tr>\n",
       "      <th>max</th>\n",
       "      <td>302.078989</td>\n",
       "      <td>150.413023</td>\n",
       "      <td>35.833991</td>\n",
       "      <td>208.948935</td>\n",
       "      <td>44.852154</td>\n",
       "      <td>303.972079</td>\n",
       "      <td>243.748005</td>\n",
       "      <td>3.390650</td>\n",
       "      <td>31.064630</td>\n",
       "      <td>4.940981</td>\n",
       "      <td>0.850416</td>\n",
       "      <td>1.796709</td>\n",
       "      <td>0.975637</td>\n",
       "      <td>1.808457</td>\n",
       "      <td>6.440924</td>\n",
       "      <td>0.199049</td>\n",
       "    </tr>\n",
       "  </tbody>\n",
       "</table>\n",
       "</div>"
      ],
      "text/plain": [
       "       CO2originPerkWh   CO2PerkWh  SO2PerkWh   NOxPerkWh  NMvocPerkWh  \\\n",
       "count        96.000000   96.000000  96.000000   96.000000    96.000000   \n",
       "mean        180.144254   74.848174  18.463189  113.276253    18.610576   \n",
       "std          47.058206   25.044103   6.839496   43.807109    12.880816   \n",
       "min          70.428476   20.254442   6.226973   43.731304     5.446157   \n",
       "25%         146.487918   58.086630  13.649051   83.575872     7.835223   \n",
       "50%         185.180658   67.203856  16.442943  110.471271     9.415603   \n",
       "75%         206.427330   92.091741  23.165767  134.865707    28.108784   \n",
       "max         302.078989  150.413023  35.833991  208.948935    44.852154   \n",
       "\n",
       "        CH4PerkWh    COPerkWh  N2OPerkWh  ParticlesPerkWh  CoalFlyAshPerkWh  \\\n",
       "count   96.000000   96.000000  96.000000        96.000000         96.000000   \n",
       "mean    92.897101  122.891852   1.848389        13.670592          2.348632   \n",
       "std     81.447273   54.274488   0.569242         6.530338          0.936050   \n",
       "min     15.640817   41.728332   0.703438         4.208489          0.116381   \n",
       "25%     20.351373   81.011309   1.499396         9.139520          1.796521   \n",
       "50%     36.042493  114.253850   1.794529        12.443153          2.080741   \n",
       "75%    148.317155  158.296354   2.079181        18.356098          2.618848   \n",
       "max    303.972079  243.748005   3.390650        31.064630          4.940981   \n",
       "\n",
       "       CoalSlagPerkWh  DesulpPerkWh  FuelGasWastePerkWh  BioashPerkWh  \\\n",
       "count       96.000000     96.000000           96.000000     96.000000   \n",
       "mean         0.404234      0.854106            0.534414      0.953747   \n",
       "std          0.161108      0.340319            0.192097      0.427407   \n",
       "min          0.020031      0.042883            0.236887      0.242490   \n",
       "25%          0.309208      0.653259            0.347134      0.555999   \n",
       "50%          0.358126      0.756725            0.589976      0.979054   \n",
       "75%          0.450742      0.952193            0.657509      1.340735   \n",
       "max          0.850416      1.796709            0.975637      1.808457   \n",
       "\n",
       "       WasteSlagPerkWh  RadioactiveWastePerkWh  \n",
       "count        96.000000               96.000000  \n",
       "mean          3.528077                0.057078  \n",
       "std           1.268182                0.038379  \n",
       "min           1.563870                0.007270  \n",
       "25%           2.291697                0.034272  \n",
       "50%           3.894884                0.045770  \n",
       "75%           4.340724                0.059698  \n",
       "max           6.440924                0.199049  "
      ]
     },
     "execution_count": 55,
     "metadata": {},
     "output_type": "execute_result"
    }
   ],
   "source": [
    "data.describe()\n",
    "# To provide descriptive statistics"
   ]
  },
  {
   "cell_type": "markdown",
   "id": "2039c7fb-c53c-4eeb-8267-929a44d7720c",
   "metadata": {},
   "source": [
    "From the count, we could infer that there are no mising values \n",
    "because all the variables have counts of 96 and we saw earlier that the dataset has 96 rows. \n",
    "\n",
    "Skimming through the min and max I do not notice any alarming values"
   ]
  },
  {
   "cell_type": "code",
   "execution_count": 54,
   "id": "2bfd6b54-4bc5-48de-9d97-8d3e62b3798d",
   "metadata": {},
   "outputs": [
    {
     "name": "stdout",
     "output_type": "stream",
     "text": [
      "<class 'pandas.core.frame.DataFrame'>\n",
      "RangeIndex: 96 entries, 0 to 95\n",
      "Data columns (total 21 columns):\n",
      " #   Column                  Non-Null Count  Dtype         \n",
      "---  ------                  --------------  -----         \n",
      " 0   HourUTC                 96 non-null     datetime64[ns]\n",
      " 1   HourDK                  96 non-null     datetime64[ns]\n",
      " 2   PriceArea               96 non-null     object        \n",
      " 3   FuelAllocationMethod    96 non-null     object        \n",
      " 4   Edition                 96 non-null     object        \n",
      " 5   CO2originPerkWh         96 non-null     float64       \n",
      " 6   CO2PerkWh               96 non-null     float64       \n",
      " 7   SO2PerkWh               96 non-null     float64       \n",
      " 8   NOxPerkWh               96 non-null     float64       \n",
      " 9   NMvocPerkWh             96 non-null     float64       \n",
      " 10  CH4PerkWh               96 non-null     float64       \n",
      " 11  COPerkWh                96 non-null     float64       \n",
      " 12  N2OPerkWh               96 non-null     float64       \n",
      " 13  ParticlesPerkWh         96 non-null     float64       \n",
      " 14  CoalFlyAshPerkWh        96 non-null     float64       \n",
      " 15  CoalSlagPerkWh          96 non-null     float64       \n",
      " 16  DesulpPerkWh            96 non-null     float64       \n",
      " 17  FuelGasWastePerkWh      96 non-null     float64       \n",
      " 18  BioashPerkWh            96 non-null     float64       \n",
      " 19  WasteSlagPerkWh         96 non-null     float64       \n",
      " 20  RadioactiveWastePerkWh  96 non-null     float64       \n",
      "dtypes: datetime64[ns](2), float64(16), object(3)\n",
      "memory usage: 15.9+ KB\n"
     ]
    }
   ],
   "source": [
    "data.info()\n",
    "#  This provides details on the datatypes and the number of \n",
    "# non null values."
   ]
  },
  {
   "cell_type": "markdown",
   "id": "0287f8c5-0c0c-4bd1-994f-298b17143430",
   "metadata": {},
   "source": [
    "It can be noticed that there are dates-time, floats and objects.\n",
    "The dates are relevant to our work since we were looking forward to getting emmissions per time"
   ]
  },
  {
   "cell_type": "code",
   "execution_count": 53,
   "id": "6efaafe4-b6c4-4d36-ba6c-d2925c9a6164",
   "metadata": {},
   "outputs": [
    {
     "data": {
      "text/plain": [
       "HourUTC                   48\n",
       "HourDK                    48\n",
       "PriceArea                  2\n",
       "FuelAllocationMethod       1\n",
       "Edition                    1\n",
       "CO2originPerkWh           96\n",
       "CO2PerkWh                 96\n",
       "SO2PerkWh                 96\n",
       "NOxPerkWh                 96\n",
       "NMvocPerkWh               96\n",
       "CH4PerkWh                 96\n",
       "COPerkWh                  96\n",
       "N2OPerkWh                 96\n",
       "ParticlesPerkWh           96\n",
       "CoalFlyAshPerkWh          96\n",
       "CoalSlagPerkWh            96\n",
       "DesulpPerkWh              96\n",
       "FuelGasWastePerkWh        96\n",
       "BioashPerkWh              96\n",
       "WasteSlagPerkWh           96\n",
       "RadioactiveWastePerkWh    96\n",
       "dtype: int64"
      ]
     },
     "execution_count": 53,
     "metadata": {},
     "output_type": "execute_result"
    }
   ],
   "source": [
    "data.nunique()\n",
    "#To find the number of unique values for each variable\n",
    "# It can help when you need to code certain categorical variables"
   ]
  },
  {
   "cell_type": "markdown",
   "id": "dbbc1ed8-e5c6-4793-a8bd-dfe6befa25d5",
   "metadata": {},
   "source": [
    "PriceArea seems like a categorical variable and It would be interesting to find out why FuelAllocationMethod and Edition has one value "
   ]
  },
  {
   "cell_type": "code",
   "execution_count": 43,
   "id": "5911232b-9d41-40ea-a4ef-de74c431f908",
   "metadata": {},
   "outputs": [
    {
     "data": {
      "text/plain": [
       "array(['DK1', 'DK2'], dtype=object)"
      ]
     },
     "execution_count": 43,
     "metadata": {},
     "output_type": "execute_result"
    }
   ],
   "source": [
    "data['PriceArea'].unique()\n",
    "# To know the actual values of PriceArea"
   ]
  },
  {
   "cell_type": "markdown",
   "id": "ab13b7cc-86d4-4e6d-8d38-2c1b9f2400be",
   "metadata": {},
   "source": [
    "These values could be used to create codes that could be used \n",
    "for modelling"
   ]
  },
  {
   "cell_type": "markdown",
   "id": "4bb6641a-18cc-4f50-8ad7-65bb775eb456",
   "metadata": {},
   "source": [
    "## Data Preparation"
   ]
  },
  {
   "cell_type": "code",
   "execution_count": 52,
   "id": "5615e60f-0f4e-4ab9-95c7-f4042487eaa0",
   "metadata": {},
   "outputs": [
    {
     "data": {
      "text/plain": [
       "HourUTC                   0\n",
       "HourDK                    0\n",
       "PriceArea                 0\n",
       "FuelAllocationMethod      0\n",
       "Edition                   0\n",
       "CO2originPerkWh           0\n",
       "CO2PerkWh                 0\n",
       "SO2PerkWh                 0\n",
       "NOxPerkWh                 0\n",
       "NMvocPerkWh               0\n",
       "CH4PerkWh                 0\n",
       "COPerkWh                  0\n",
       "N2OPerkWh                 0\n",
       "ParticlesPerkWh           0\n",
       "CoalFlyAshPerkWh          0\n",
       "CoalSlagPerkWh            0\n",
       "DesulpPerkWh              0\n",
       "FuelGasWastePerkWh        0\n",
       "BioashPerkWh              0\n",
       "WasteSlagPerkWh           0\n",
       "RadioactiveWastePerkWh    0\n",
       "dtype: int64"
      ]
     },
     "execution_count": 52,
     "metadata": {},
     "output_type": "execute_result"
    }
   ],
   "source": [
    "data.isnull().sum()\n",
    "# To check the number of null values"
   ]
  },
  {
   "cell_type": "markdown",
   "id": "b4a66879-c8b9-4087-aafc-65046d278a58",
   "metadata": {},
   "source": [
    "We were able to identify that there are no null or missing values from the descriptive statistics. This would have been useful if there were null values. We could have seen the null values for each variable and based on that information  we would then decide on whether we drop them or not"
   ]
  },
  {
   "cell_type": "code",
   "execution_count": 45,
   "id": "cbfca4f6-f289-4adf-a697-bf5884d1ec98",
   "metadata": {},
   "outputs": [
    {
     "data": {
      "text/plain": [
       "0     False\n",
       "1     False\n",
       "2     False\n",
       "3     False\n",
       "4     False\n",
       "      ...  \n",
       "91    False\n",
       "92    False\n",
       "93    False\n",
       "94    False\n",
       "95    False\n",
       "Length: 96, dtype: bool"
      ]
     },
     "execution_count": 45,
     "metadata": {},
     "output_type": "execute_result"
    }
   ],
   "source": [
    "data.duplicated()\n",
    "#To check rows that have duplicates"
   ]
  },
  {
   "cell_type": "code",
   "execution_count": 48,
   "id": "2e70d74c-daa0-42fc-9b7f-b9b3175b6f6b",
   "metadata": {},
   "outputs": [
    {
     "data": {
      "text/html": [
       "<div>\n",
       "<style scoped>\n",
       "    .dataframe tbody tr th:only-of-type {\n",
       "        vertical-align: middle;\n",
       "    }\n",
       "\n",
       "    .dataframe tbody tr th {\n",
       "        vertical-align: top;\n",
       "    }\n",
       "\n",
       "    .dataframe thead th {\n",
       "        text-align: right;\n",
       "    }\n",
       "</style>\n",
       "<table border=\"1\" class=\"dataframe\">\n",
       "  <thead>\n",
       "    <tr style=\"text-align: right;\">\n",
       "      <th></th>\n",
       "      <th>HourUTC</th>\n",
       "      <th>HourDK</th>\n",
       "      <th>PriceArea</th>\n",
       "      <th>FuelAllocationMethod</th>\n",
       "      <th>Edition_2</th>\n",
       "      <th>CO2originPerkWh</th>\n",
       "      <th>CO2PerkWh</th>\n",
       "      <th>SO2PerkWh</th>\n",
       "      <th>NOxPerkWh</th>\n",
       "      <th>NMvocPerkWh</th>\n",
       "      <th>CH4PerkWh</th>\n",
       "      <th>COPerkWh</th>\n",
       "      <th>N2OPerkWh</th>\n",
       "      <th>ParticlesPerkWh</th>\n",
       "      <th>CoalFlyAshPerkWh</th>\n",
       "      <th>CoalSlagPerkWh</th>\n",
       "      <th>DesulpPerkWh</th>\n",
       "      <th>FuelGasWastePerkWh</th>\n",
       "      <th>BioashPerkWh</th>\n",
       "      <th>WasteSlagPerkWh</th>\n",
       "      <th>RadioactiveWastePerkWh</th>\n",
       "    </tr>\n",
       "  </thead>\n",
       "  <tbody>\n",
       "  </tbody>\n",
       "</table>\n",
       "</div>"
      ],
      "text/plain": [
       "Empty DataFrame\n",
       "Columns: [HourUTC, HourDK, PriceArea, FuelAllocationMethod, Edition_2, CO2originPerkWh, CO2PerkWh, SO2PerkWh, NOxPerkWh, NMvocPerkWh, CH4PerkWh, COPerkWh, N2OPerkWh, ParticlesPerkWh, CoalFlyAshPerkWh, CoalSlagPerkWh, DesulpPerkWh, FuelGasWastePerkWh, BioashPerkWh, WasteSlagPerkWh, RadioactiveWastePerkWh]\n",
       "Index: []"
      ]
     },
     "execution_count": 48,
     "metadata": {},
     "output_type": "execute_result"
    }
   ],
   "source": [
    "duplicates=data[data.duplicated()]\n",
    "duplicates"
   ]
  },
  {
   "cell_type": "markdown",
   "id": "b5d01833-d9e9-438c-98b4-e11f4660a0eb",
   "metadata": {},
   "source": [
    "It can be seen that no rows pop up.So there are no duplicates"
   ]
  },
  {
   "cell_type": "code",
   "execution_count": 49,
   "id": "e290866d-a920-448b-9324-3b2f003afbec",
   "metadata": {},
   "outputs": [
    {
     "data": {
      "text/html": [
       "<div>\n",
       "<style scoped>\n",
       "    .dataframe tbody tr th:only-of-type {\n",
       "        vertical-align: middle;\n",
       "    }\n",
       "\n",
       "    .dataframe tbody tr th {\n",
       "        vertical-align: top;\n",
       "    }\n",
       "\n",
       "    .dataframe thead th {\n",
       "        text-align: right;\n",
       "    }\n",
       "</style>\n",
       "<table border=\"1\" class=\"dataframe\">\n",
       "  <thead>\n",
       "    <tr style=\"text-align: right;\">\n",
       "      <th></th>\n",
       "      <th>HourUTC</th>\n",
       "      <th>HourDK</th>\n",
       "      <th>PriceArea</th>\n",
       "      <th>FuelAllocationMethod</th>\n",
       "      <th>Edition_2</th>\n",
       "      <th>CO2originPerkWh</th>\n",
       "      <th>CO2PerkWh</th>\n",
       "      <th>SO2PerkWh</th>\n",
       "      <th>NOxPerkWh</th>\n",
       "      <th>NMvocPerkWh</th>\n",
       "      <th>CH4PerkWh</th>\n",
       "      <th>COPerkWh</th>\n",
       "      <th>N2OPerkWh</th>\n",
       "      <th>ParticlesPerkWh</th>\n",
       "      <th>CoalFlyAshPerkWh</th>\n",
       "      <th>CoalSlagPerkWh</th>\n",
       "      <th>DesulpPerkWh</th>\n",
       "      <th>FuelGasWastePerkWh</th>\n",
       "      <th>BioashPerkWh</th>\n",
       "      <th>WasteSlagPerkWh</th>\n",
       "      <th>RadioactiveWastePerkWh</th>\n",
       "    </tr>\n",
       "  </thead>\n",
       "  <tbody>\n",
       "    <tr>\n",
       "      <th>0</th>\n",
       "      <td>2022-12-31 22:00:00</td>\n",
       "      <td>2022-12-31 23:00:00</td>\n",
       "      <td>DK1</td>\n",
       "      <td>125%</td>\n",
       "      <td>B</td>\n",
       "      <td>257.602099</td>\n",
       "      <td>150.413023</td>\n",
       "      <td>31.409801</td>\n",
       "      <td>163.570535</td>\n",
       "      <td>30.786481</td>\n",
       "      <td>193.176921</td>\n",
       "      <td>172.315473</td>\n",
       "      <td>2.791324</td>\n",
       "      <td>15.932002</td>\n",
       "      <td>4.500404</td>\n",
       "      <td>0.774586</td>\n",
       "      <td>1.636257</td>\n",
       "      <td>0.546645</td>\n",
       "      <td>0.845374</td>\n",
       "      <td>3.608821</td>\n",
       "      <td>0.103303</td>\n",
       "    </tr>\n",
       "    <tr>\n",
       "      <th>1</th>\n",
       "      <td>2022-12-31 22:00:00</td>\n",
       "      <td>2022-12-31 23:00:00</td>\n",
       "      <td>DK2</td>\n",
       "      <td>125%</td>\n",
       "      <td>B</td>\n",
       "      <td>178.014428</td>\n",
       "      <td>56.871128</td>\n",
       "      <td>20.932828</td>\n",
       "      <td>130.563110</td>\n",
       "      <td>27.672242</td>\n",
       "      <td>123.354464</td>\n",
       "      <td>153.010466</td>\n",
       "      <td>2.042565</td>\n",
       "      <td>19.650789</td>\n",
       "      <td>1.571945</td>\n",
       "      <td>0.270555</td>\n",
       "      <td>0.571551</td>\n",
       "      <td>0.611379</td>\n",
       "      <td>1.068439</td>\n",
       "      <td>4.036177</td>\n",
       "      <td>0.034892</td>\n",
       "    </tr>\n",
       "    <tr>\n",
       "      <th>2</th>\n",
       "      <td>2022-12-31 21:00:00</td>\n",
       "      <td>2022-12-31 22:00:00</td>\n",
       "      <td>DK1</td>\n",
       "      <td>125%</td>\n",
       "      <td>B</td>\n",
       "      <td>259.929122</td>\n",
       "      <td>147.105104</td>\n",
       "      <td>32.041665</td>\n",
       "      <td>176.526649</td>\n",
       "      <td>34.897375</td>\n",
       "      <td>223.184641</td>\n",
       "      <td>187.705972</td>\n",
       "      <td>2.872162</td>\n",
       "      <td>16.995329</td>\n",
       "      <td>4.305546</td>\n",
       "      <td>0.741048</td>\n",
       "      <td>1.565415</td>\n",
       "      <td>0.586614</td>\n",
       "      <td>0.861331</td>\n",
       "      <td>3.872689</td>\n",
       "      <td>0.119272</td>\n",
       "    </tr>\n",
       "    <tr>\n",
       "      <th>3</th>\n",
       "      <td>2022-12-31 21:00:00</td>\n",
       "      <td>2022-12-31 22:00:00</td>\n",
       "      <td>DK2</td>\n",
       "      <td>125%</td>\n",
       "      <td>B</td>\n",
       "      <td>194.475579</td>\n",
       "      <td>65.174806</td>\n",
       "      <td>22.250589</td>\n",
       "      <td>136.570368</td>\n",
       "      <td>28.406221</td>\n",
       "      <td>125.105701</td>\n",
       "      <td>160.895687</td>\n",
       "      <td>2.194613</td>\n",
       "      <td>20.639240</td>\n",
       "      <td>1.867593</td>\n",
       "      <td>0.321440</td>\n",
       "      <td>0.679042</td>\n",
       "      <td>0.638358</td>\n",
       "      <td>1.153075</td>\n",
       "      <td>4.214285</td>\n",
       "      <td>0.050709</td>\n",
       "    </tr>\n",
       "    <tr>\n",
       "      <th>4</th>\n",
       "      <td>2022-12-31 20:00:00</td>\n",
       "      <td>2022-12-31 21:00:00</td>\n",
       "      <td>DK1</td>\n",
       "      <td>125%</td>\n",
       "      <td>B</td>\n",
       "      <td>258.957092</td>\n",
       "      <td>131.980813</td>\n",
       "      <td>28.446963</td>\n",
       "      <td>189.778125</td>\n",
       "      <td>41.187513</td>\n",
       "      <td>270.875855</td>\n",
       "      <td>213.886175</td>\n",
       "      <td>2.922054</td>\n",
       "      <td>18.659764</td>\n",
       "      <td>3.851529</td>\n",
       "      <td>0.662905</td>\n",
       "      <td>1.400351</td>\n",
       "      <td>0.650415</td>\n",
       "      <td>0.946867</td>\n",
       "      <td>4.293888</td>\n",
       "      <td>0.102008</td>\n",
       "    </tr>\n",
       "    <tr>\n",
       "      <th>...</th>\n",
       "      <td>...</td>\n",
       "      <td>...</td>\n",
       "      <td>...</td>\n",
       "      <td>...</td>\n",
       "      <td>...</td>\n",
       "      <td>...</td>\n",
       "      <td>...</td>\n",
       "      <td>...</td>\n",
       "      <td>...</td>\n",
       "      <td>...</td>\n",
       "      <td>...</td>\n",
       "      <td>...</td>\n",
       "      <td>...</td>\n",
       "      <td>...</td>\n",
       "      <td>...</td>\n",
       "      <td>...</td>\n",
       "      <td>...</td>\n",
       "      <td>...</td>\n",
       "      <td>...</td>\n",
       "      <td>...</td>\n",
       "      <td>...</td>\n",
       "    </tr>\n",
       "    <tr>\n",
       "      <th>91</th>\n",
       "      <td>2022-12-30 01:00:00</td>\n",
       "      <td>2022-12-30 02:00:00</td>\n",
       "      <td>DK2</td>\n",
       "      <td>125%</td>\n",
       "      <td>B</td>\n",
       "      <td>198.793196</td>\n",
       "      <td>55.009352</td>\n",
       "      <td>15.180784</td>\n",
       "      <td>113.328385</td>\n",
       "      <td>8.557447</td>\n",
       "      <td>16.362818</td>\n",
       "      <td>114.369495</td>\n",
       "      <td>1.757353</td>\n",
       "      <td>12.993626</td>\n",
       "      <td>1.670657</td>\n",
       "      <td>0.287545</td>\n",
       "      <td>0.607800</td>\n",
       "      <td>0.656809</td>\n",
       "      <td>1.470945</td>\n",
       "      <td>4.336101</td>\n",
       "      <td>0.032228</td>\n",
       "    </tr>\n",
       "    <tr>\n",
       "      <th>92</th>\n",
       "      <td>2022-12-30 00:00:00</td>\n",
       "      <td>2022-12-30 01:00:00</td>\n",
       "      <td>DK1</td>\n",
       "      <td>125%</td>\n",
       "      <td>B</td>\n",
       "      <td>80.217287</td>\n",
       "      <td>35.193045</td>\n",
       "      <td>7.014064</td>\n",
       "      <td>48.700543</td>\n",
       "      <td>6.140112</td>\n",
       "      <td>33.619585</td>\n",
       "      <td>45.989531</td>\n",
       "      <td>0.784419</td>\n",
       "      <td>4.774269</td>\n",
       "      <td>1.161597</td>\n",
       "      <td>0.199928</td>\n",
       "      <td>0.422713</td>\n",
       "      <td>0.348677</td>\n",
       "      <td>0.383873</td>\n",
       "      <td>2.301885</td>\n",
       "      <td>0.007365</td>\n",
       "    </tr>\n",
       "    <tr>\n",
       "      <th>93</th>\n",
       "      <td>2022-12-30 00:00:00</td>\n",
       "      <td>2022-12-30 01:00:00</td>\n",
       "      <td>DK2</td>\n",
       "      <td>125%</td>\n",
       "      <td>B</td>\n",
       "      <td>210.664158</td>\n",
       "      <td>46.799817</td>\n",
       "      <td>14.670538</td>\n",
       "      <td>115.478198</td>\n",
       "      <td>9.521026</td>\n",
       "      <td>17.947012</td>\n",
       "      <td>129.098720</td>\n",
       "      <td>1.828162</td>\n",
       "      <td>14.557812</td>\n",
       "      <td>1.315507</td>\n",
       "      <td>0.226418</td>\n",
       "      <td>0.478777</td>\n",
       "      <td>0.704907</td>\n",
       "      <td>1.687100</td>\n",
       "      <td>4.653630</td>\n",
       "      <td>0.024893</td>\n",
       "    </tr>\n",
       "    <tr>\n",
       "      <th>94</th>\n",
       "      <td>2022-12-29 23:00:00</td>\n",
       "      <td>2022-12-30 00:00:00</td>\n",
       "      <td>DK1</td>\n",
       "      <td>125%</td>\n",
       "      <td>B</td>\n",
       "      <td>93.492166</td>\n",
       "      <td>40.624742</td>\n",
       "      <td>8.144242</td>\n",
       "      <td>53.627748</td>\n",
       "      <td>6.479147</td>\n",
       "      <td>33.340244</td>\n",
       "      <td>52.299144</td>\n",
       "      <td>0.897134</td>\n",
       "      <td>5.539694</td>\n",
       "      <td>1.360420</td>\n",
       "      <td>0.234148</td>\n",
       "      <td>0.495007</td>\n",
       "      <td>0.372007</td>\n",
       "      <td>0.469084</td>\n",
       "      <td>2.455905</td>\n",
       "      <td>0.013509</td>\n",
       "    </tr>\n",
       "    <tr>\n",
       "      <th>95</th>\n",
       "      <td>2022-12-29 23:00:00</td>\n",
       "      <td>2022-12-30 00:00:00</td>\n",
       "      <td>DK2</td>\n",
       "      <td>125%</td>\n",
       "      <td>B</td>\n",
       "      <td>197.013287</td>\n",
       "      <td>20.254442</td>\n",
       "      <td>13.329339</td>\n",
       "      <td>121.738897</td>\n",
       "      <td>9.936342</td>\n",
       "      <td>19.822132</td>\n",
       "      <td>134.954229</td>\n",
       "      <td>1.689604</td>\n",
       "      <td>14.773785</td>\n",
       "      <td>0.116381</td>\n",
       "      <td>0.020031</td>\n",
       "      <td>0.042883</td>\n",
       "      <td>0.800318</td>\n",
       "      <td>1.808457</td>\n",
       "      <td>5.283513</td>\n",
       "      <td>0.017928</td>\n",
       "    </tr>\n",
       "  </tbody>\n",
       "</table>\n",
       "<p>96 rows × 21 columns</p>\n",
       "</div>"
      ],
      "text/plain": [
       "               HourUTC              HourDK PriceArea FuelAllocationMethod  \\\n",
       "0  2022-12-31 22:00:00 2022-12-31 23:00:00       DK1                 125%   \n",
       "1  2022-12-31 22:00:00 2022-12-31 23:00:00       DK2                 125%   \n",
       "2  2022-12-31 21:00:00 2022-12-31 22:00:00       DK1                 125%   \n",
       "3  2022-12-31 21:00:00 2022-12-31 22:00:00       DK2                 125%   \n",
       "4  2022-12-31 20:00:00 2022-12-31 21:00:00       DK1                 125%   \n",
       "..                 ...                 ...       ...                  ...   \n",
       "91 2022-12-30 01:00:00 2022-12-30 02:00:00       DK2                 125%   \n",
       "92 2022-12-30 00:00:00 2022-12-30 01:00:00       DK1                 125%   \n",
       "93 2022-12-30 00:00:00 2022-12-30 01:00:00       DK2                 125%   \n",
       "94 2022-12-29 23:00:00 2022-12-30 00:00:00       DK1                 125%   \n",
       "95 2022-12-29 23:00:00 2022-12-30 00:00:00       DK2                 125%   \n",
       "\n",
       "   Edition_2  CO2originPerkWh   CO2PerkWh  SO2PerkWh   NOxPerkWh  NMvocPerkWh  \\\n",
       "0          B       257.602099  150.413023  31.409801  163.570535    30.786481   \n",
       "1          B       178.014428   56.871128  20.932828  130.563110    27.672242   \n",
       "2          B       259.929122  147.105104  32.041665  176.526649    34.897375   \n",
       "3          B       194.475579   65.174806  22.250589  136.570368    28.406221   \n",
       "4          B       258.957092  131.980813  28.446963  189.778125    41.187513   \n",
       "..       ...              ...         ...        ...         ...          ...   \n",
       "91         B       198.793196   55.009352  15.180784  113.328385     8.557447   \n",
       "92         B        80.217287   35.193045   7.014064   48.700543     6.140112   \n",
       "93         B       210.664158   46.799817  14.670538  115.478198     9.521026   \n",
       "94         B        93.492166   40.624742   8.144242   53.627748     6.479147   \n",
       "95         B       197.013287   20.254442  13.329339  121.738897     9.936342   \n",
       "\n",
       "     CH4PerkWh    COPerkWh  N2OPerkWh  ParticlesPerkWh  CoalFlyAshPerkWh  \\\n",
       "0   193.176921  172.315473   2.791324        15.932002          4.500404   \n",
       "1   123.354464  153.010466   2.042565        19.650789          1.571945   \n",
       "2   223.184641  187.705972   2.872162        16.995329          4.305546   \n",
       "3   125.105701  160.895687   2.194613        20.639240          1.867593   \n",
       "4   270.875855  213.886175   2.922054        18.659764          3.851529   \n",
       "..         ...         ...        ...              ...               ...   \n",
       "91   16.362818  114.369495   1.757353        12.993626          1.670657   \n",
       "92   33.619585   45.989531   0.784419         4.774269          1.161597   \n",
       "93   17.947012  129.098720   1.828162        14.557812          1.315507   \n",
       "94   33.340244   52.299144   0.897134         5.539694          1.360420   \n",
       "95   19.822132  134.954229   1.689604        14.773785          0.116381   \n",
       "\n",
       "    CoalSlagPerkWh  DesulpPerkWh  FuelGasWastePerkWh  BioashPerkWh  \\\n",
       "0         0.774586      1.636257            0.546645      0.845374   \n",
       "1         0.270555      0.571551            0.611379      1.068439   \n",
       "2         0.741048      1.565415            0.586614      0.861331   \n",
       "3         0.321440      0.679042            0.638358      1.153075   \n",
       "4         0.662905      1.400351            0.650415      0.946867   \n",
       "..             ...           ...                 ...           ...   \n",
       "91        0.287545      0.607800            0.656809      1.470945   \n",
       "92        0.199928      0.422713            0.348677      0.383873   \n",
       "93        0.226418      0.478777            0.704907      1.687100   \n",
       "94        0.234148      0.495007            0.372007      0.469084   \n",
       "95        0.020031      0.042883            0.800318      1.808457   \n",
       "\n",
       "    WasteSlagPerkWh  RadioactiveWastePerkWh  \n",
       "0          3.608821                0.103303  \n",
       "1          4.036177                0.034892  \n",
       "2          3.872689                0.119272  \n",
       "3          4.214285                0.050709  \n",
       "4          4.293888                0.102008  \n",
       "..              ...                     ...  \n",
       "91         4.336101                0.032228  \n",
       "92         2.301885                0.007365  \n",
       "93         4.653630                0.024893  \n",
       "94         2.455905                0.013509  \n",
       "95         5.283513                0.017928  \n",
       "\n",
       "[96 rows x 21 columns]"
      ]
     },
     "execution_count": 49,
     "metadata": {},
     "output_type": "execute_result"
    }
   ],
   "source": [
    "data.drop_duplicates()\n",
    "#If there are any duplicates you can drop all using this command"
   ]
  },
  {
   "cell_type": "code",
   "execution_count": 50,
   "id": "2089e1cd-5553-4cc2-b4a7-50d9e0c75bdb",
   "metadata": {},
   "outputs": [
    {
     "data": {
      "text/plain": [
       "(96, 21)"
      ]
     },
     "execution_count": 50,
     "metadata": {},
     "output_type": "execute_result"
    }
   ],
   "source": [
    "data.shape"
   ]
  },
  {
   "cell_type": "markdown",
   "id": "c41a348c-5e04-4fac-b9fa-c1df745f8f60",
   "metadata": {},
   "source": [
    "Even after dropping duplicates we notice we still do have 96 rows.This corroborate our initial finding that there are no duplicates."
   ]
  },
  {
   "cell_type": "code",
   "execution_count": 59,
   "id": "9e46f690-3e3a-4755-8c3f-674063222a13",
   "metadata": {},
   "outputs": [],
   "source": [
    "data.rename(columns={\"Edition\": \"Edition_2\"}, inplace=True)\n",
    "#To rename columns "
   ]
  },
  {
   "cell_type": "code",
   "execution_count": 60,
   "id": "bb163fa5-e7fe-4256-af2c-d98d3c858c52",
   "metadata": {},
   "outputs": [
    {
     "data": {
      "text/plain": [
       "Index(['HourUTC', 'HourDK', 'PriceArea', 'FuelAllocationMethod', 'Edition_2',\n",
       "       'CO2originPerkWh', 'CO2PerkWh', 'SO2PerkWh', 'NOxPerkWh', 'NMvocPerkWh',\n",
       "       'CH4PerkWh', 'COPerkWh', 'N2OPerkWh', 'ParticlesPerkWh',\n",
       "       'CoalFlyAshPerkWh', 'CoalSlagPerkWh', 'DesulpPerkWh',\n",
       "       'FuelGasWastePerkWh', 'BioashPerkWh', 'WasteSlagPerkWh',\n",
       "       'RadioactiveWastePerkWh'],\n",
       "      dtype='object')"
      ]
     },
     "execution_count": 60,
     "metadata": {},
     "output_type": "execute_result"
    }
   ],
   "source": [
    "data.columns"
   ]
  },
  {
   "cell_type": "markdown",
   "id": "da64a133-f886-4ea8-86dd-45c635a1ae50",
   "metadata": {},
   "source": [
    "We notice that edition has been changed to edition_2"
   ]
  },
  {
   "cell_type": "markdown",
   "id": "1a725d76-6d39-4048-a294-5ecd1d574184",
   "metadata": {},
   "source": [
    "## Categorizing values"
   ]
  },
  {
   "cell_type": "code",
   "execution_count": 61,
   "id": "6921cf70-65b0-41ed-bfd2-fe3fc00e0d1d",
   "metadata": {},
   "outputs": [
    {
     "data": {
      "text/plain": [
       "Index(['HourUTC', 'HourDK', 'PriceArea', 'FuelAllocationMethod', 'Edition_2',\n",
       "       'CO2originPerkWh', 'CO2PerkWh', 'SO2PerkWh', 'NOxPerkWh', 'NMvocPerkWh',\n",
       "       'CH4PerkWh', 'COPerkWh', 'N2OPerkWh', 'ParticlesPerkWh',\n",
       "       'CoalFlyAshPerkWh', 'CoalSlagPerkWh', 'DesulpPerkWh',\n",
       "       'FuelGasWastePerkWh', 'BioashPerkWh', 'WasteSlagPerkWh',\n",
       "       'RadioactiveWastePerkWh'],\n",
       "      dtype='object')"
      ]
     },
     "execution_count": 61,
     "metadata": {},
     "output_type": "execute_result"
    }
   ],
   "source": [
    "data.columns"
   ]
  },
  {
   "cell_type": "code",
   "execution_count": 62,
   "id": "0ffd7047-3479-4f9b-a092-6326a60401dc",
   "metadata": {},
   "outputs": [
    {
     "data": {
      "text/plain": [
       "DK2    48\n",
       "DK1    48\n",
       "Name: PriceArea, dtype: int64"
      ]
     },
     "execution_count": 62,
     "metadata": {},
     "output_type": "execute_result"
    }
   ],
   "source": [
    "data['PriceArea'].value_counts()"
   ]
  },
  {
   "cell_type": "markdown",
   "id": "87a88db4-1fdd-4897-bc12-bbe9be841403",
   "metadata": {},
   "source": [
    "Price Area has two variables and with 48 count for each. We could use bar chart to check their distribution as it is categorical"
   ]
  },
  {
   "cell_type": "code",
   "execution_count": 63,
   "id": "842a1846-8c9b-4f59-862c-00dc20dbd09b",
   "metadata": {},
   "outputs": [
    {
     "data": {
      "text/plain": [
       "61.512194     1\n",
       "96.803097     1\n",
       "65.627080     1\n",
       "147.105104    1\n",
       "40.624742     1\n",
       "             ..\n",
       "67.070328     1\n",
       "97.606105     1\n",
       "51.212488     1\n",
       "56.842297     1\n",
       "59.801151     1\n",
       "Name: CO2PerkWh, Length: 96, dtype: int64"
      ]
     },
     "execution_count": 63,
     "metadata": {},
     "output_type": "execute_result"
    }
   ],
   "source": [
    "data['CO2PerkWh'].value_counts()"
   ]
  },
  {
   "cell_type": "markdown",
   "id": "6c4fc086-6626-4dfb-9bfa-ca473d32bf85",
   "metadata": {},
   "source": [
    "The value of CO2PerkWh seems to be continuous  and that is expected "
   ]
  },
  {
   "cell_type": "code",
   "execution_count": 64,
   "id": "86c673e9-8783-4454-9061-1b96c5940b9a",
   "metadata": {},
   "outputs": [
    {
     "data": {
      "text/plain": [
       "176.996161    1\n",
       "147.637263    1\n",
       "233.052109    1\n",
       "119.718620    1\n",
       "199.795707    1\n",
       "             ..\n",
       "201.035773    1\n",
       "145.620248    1\n",
       "171.775172    1\n",
       "197.013287    1\n",
       "124.797087    1\n",
       "Name: CO2originPerkWh, Length: 96, dtype: int64"
      ]
     },
     "execution_count": 64,
     "metadata": {},
     "output_type": "execute_result"
    }
   ],
   "source": [
    "data['CO2originPerkWh'].value_counts()"
   ]
  },
  {
   "cell_type": "markdown",
   "id": "07a8c28b-89aa-4513-9d63-688412c837df",
   "metadata": {},
   "source": [
    "CO2originPerkWh is also continuous. So we could use some histogram to visualize the distribution"
   ]
  },
  {
   "cell_type": "markdown",
   "id": "004189a9-f91d-49de-b75c-96bc68e58326",
   "metadata": {
    "tags": []
   },
   "source": [
    "# Checking the distribution of the variables of Interest "
   ]
  },
  {
   "cell_type": "code",
   "execution_count": 5,
   "id": "d710d60b-e3f3-4d3b-bc45-afe6675dab1c",
   "metadata": {},
   "outputs": [],
   "source": [
    "import matplotlib.pyplot as plt\n",
    "import seaborn as sns\n",
    "#Importing relevant libraries for ploting"
   ]
  },
  {
   "cell_type": "markdown",
   "id": "b1033ebb-7478-4fed-9363-275246b4a03e",
   "metadata": {},
   "source": [
    "The following can be done for all the variables of interest"
   ]
  },
  {
   "cell_type": "code",
   "execution_count": 71,
   "id": "ea4c8dee-af64-4a6e-84d5-dc40679609eb",
   "metadata": {},
   "outputs": [
    {
     "data": {
      "text/plain": [
       "(array([48.,  0.,  0.,  0.,  0.,  0.,  0.,  0.,  0., 48.]),\n",
       " array([0. , 0.1, 0.2, 0.3, 0.4, 0.5, 0.6, 0.7, 0.8, 0.9, 1. ]),\n",
       " <BarContainer object of 10 artists>)"
      ]
     },
     "execution_count": 71,
     "metadata": {},
     "output_type": "execute_result"
    },
    {
     "data": {
      "image/png": "[encoded data removed]",
      "text/plain": [
       "<Figure size 432x288 with 1 Axes>"
      ]
     },
     "metadata": {
      "needs_background": "light"
     },
     "output_type": "display_data"
    }
   ],
   "source": [
    "plt.hist(data['PriceArea'])"
   ]
  },
  {
   "cell_type": "markdown",
   "id": "697df09b-04fc-402c-879b-4872a5b0712c",
   "metadata": {},
   "source": [
    "This follows a discrete uniform distribution. In the modelling process we would have to integerate the necessary assumptions when dealing with 'PriceArea'\n",
    "Also there are not any outliers"
   ]
  },
  {
   "cell_type": "code",
   "execution_count": 72,
   "id": "2a1953e4-d85f-4a23-9e45-23173d484a75",
   "metadata": {},
   "outputs": [
    {
     "data": {
      "text/plain": [
       "(array([ 2.,  3., 22., 34.,  7., 14.,  6.,  1.,  5.,  2.]),\n",
       " array([ 20.254442 ,  33.2703001,  46.2861582,  59.3020163,  72.3178744,\n",
       "         85.3337325,  98.3495906, 111.3654487, 124.3813068, 137.3971649,\n",
       "        150.413023 ]),\n",
       " <BarContainer object of 10 artists>)"
      ]
     },
     "execution_count": 72,
     "metadata": {},
     "output_type": "execute_result"
    },
    {
     "data": {
      "image/png": "[encoded data removed]",
      "text/plain": [
       "<Figure size 432x288 with 1 Axes>"
      ]
     },
     "metadata": {
      "needs_background": "light"
     },
     "output_type": "display_data"
    }
   ],
   "source": [
    "plt.hist(data['CO2PerkWh'])"
   ]
  },
  {
   "cell_type": "markdown",
   "id": "fa9b7136-9e77-4a0a-8cdb-c2a8e500f15a",
   "metadata": {},
   "source": [
    "This is right skewed. Also, because it a continuous data, I guess it may follow a Weibull distribution or simply be an exponential distribution. Please check me on this."
   ]
  },
  {
   "cell_type": "code",
   "execution_count": 73,
   "id": "97d242ff-ceec-4621-a812-fab7b81b9452",
   "metadata": {},
   "outputs": [
    {
     "data": {
      "text/plain": [
       "(array([ 4.,  4., 12., 14., 15., 27., 10.,  1.,  7.,  2.]),\n",
       " array([ 70.428476 ,  93.5935273, 116.7585786, 139.9236299, 163.0886812,\n",
       "        186.2537325, 209.4187838, 232.5838351, 255.7488864, 278.9139377,\n",
       "        302.078989 ]),\n",
       " <BarContainer object of 10 artists>)"
      ]
     },
     "execution_count": 73,
     "metadata": {},
     "output_type": "execute_result"
    },
    {
     "data": {
      "image/png": "[encoded data removed]",
      "text/plain": [
       "<Figure size 432x288 with 1 Axes>"
      ]
     },
     "metadata": {
      "needs_background": "light"
     },
     "output_type": "display_data"
    }
   ],
   "source": [
    "plt.hist(data['CO2originPerkWh'])"
   ]
  },
  {
   "cell_type": "markdown",
   "id": "6d278c6c-2a76-4ede-b7bc-6e13c90fe9aa",
   "metadata": {},
   "source": [
    "This is right skewed as well. There are no ouliers"
   ]
  },
  {
   "cell_type": "markdown",
   "id": "640d041d-3f75-42d9-a90a-e6ef06fca604",
   "metadata": {},
   "source": [
    "## Understanding the relationship between the variables"
   ]
  },
  {
   "cell_type": "code",
   "execution_count": null,
   "id": "5c32f9fd-4ec6-430b-aff7-f4fa90d2eedd",
   "metadata": {},
   "outputs": [],
   "source": [
    "#sns.pairplot(data)\n",
    "#It gives the scatter plot of all the variables. \n",
    "# It is usually better for fewer columns.\n",
    "# My kernel died while running this."
   ]
  },
  {
   "cell_type": "code",
   "execution_count": 11,
   "id": "57ef3e7c-4827-46e5-a668-416d0f37fb4a",
   "metadata": {},
   "outputs": [
    {
     "data": {
      "text/plain": [
       "Index(['HourUTC', 'HourDK', 'PriceArea', 'FuelAllocationMethod', 'Edition',\n",
       "       'CO2originPerkWh', 'CO2PerkWh', 'SO2PerkWh', 'NOxPerkWh', 'NMvocPerkWh',\n",
       "       'CH4PerkWh', 'COPerkWh', 'N2OPerkWh', 'ParticlesPerkWh',\n",
       "       'CoalFlyAshPerkWh', 'CoalSlagPerkWh', 'DesulpPerkWh',\n",
       "       'FuelGasWastePerkWh', 'BioashPerkWh', 'WasteSlagPerkWh',\n",
       "       'RadioactiveWastePerkWh'],\n",
       "      dtype='object')"
      ]
     },
     "execution_count": 11,
     "metadata": {},
     "output_type": "execute_result"
    }
   ],
   "source": [
    "data.columns"
   ]
  },
  {
   "cell_type": "code",
   "execution_count": 25,
   "id": "6d05409f-770d-432a-88d3-e8460830b2e5",
   "metadata": {},
   "outputs": [
    {
     "data": {
      "text/plain": [
       "Text(0, 0.5, 'Particles Per KWH')"
      ]
     },
     "execution_count": 25,
     "metadata": {},
     "output_type": "execute_result"
    },
    {
     "data": {
      "image/png": "[encoded data removed]",
      "text/plain": [
       "<Figure size 432x288 with 1 Axes>"
      ]
     },
     "metadata": {
      "needs_background": "light"
     },
     "output_type": "display_data"
    }
   ],
   "source": [
    "plt.scatter(data['CO2PerkWh'], data['ParticlesPerkWh'], c=\"red\")\n",
    "plt.xlabel('Carbon Emission Per KWH')\n",
    "plt.ylabel('Particles Per KWH')\n"
   ]
  },
  {
   "cell_type": "markdown",
   "id": "68d14393-a904-4d46-8504-73f3356d31c9",
   "metadata": {},
   "source": [
    "From this we could infer that as the carbon emission increases the rate of particles in the atmosphere also increases"
   ]
  },
  {
   "cell_type": "code",
   "execution_count": 27,
   "id": "c0434b0d-f95b-418f-9deb-e028f185115f",
   "metadata": {},
   "outputs": [
    {
     "data": {
      "text/plain": [
       "Text(0, 0.5, 'Carbon Emission Per KWH')"
      ]
     },
     "execution_count": 27,
     "metadata": {},
     "output_type": "execute_result"
    },
    {
     "data": {
      "image/png": "[encoded data removed]",
      "text/plain": [
       "<Figure size 432x288 with 1 Axes>"
      ]
     },
     "metadata": {
      "needs_background": "light"
     },
     "output_type": "display_data"
    }
   ],
   "source": [
    "plt.scatter(data['WasteSlagPerkWh'], data['CO2PerkWh'], c=\"orange\")\n",
    "plt.xlabel('Waste Slag KWH')\n",
    "plt.ylabel('Carbon Emission Per KWH')"
   ]
  },
  {
   "cell_type": "markdown",
   "id": "ae4c97fe-0ab0-4398-978a-6c5fee6b94d1",
   "metadata": {},
   "source": [
    "Waste Slag also have a positive relationship with co2 emission"
   ]
  },
  {
   "cell_type": "code",
   "execution_count": 31,
   "id": "c5061ddb-8e0a-4f66-9c64-359eb7ae2707",
   "metadata": {},
   "outputs": [
    {
     "data": {
      "image/png": "[encoded data removed]",
      "text/plain": [
       "<Figure size 432x288 with 1 Axes>"
      ]
     },
     "metadata": {
      "needs_background": "light"
     },
     "output_type": "display_data"
    }
   ],
   "source": [
    "plt.plot(data[ 'HourDK'],data['CO2PerkWh'])\n",
    "plt.title(\"CO2 Emission over the time\")\n",
    "plt.xlabel('hours')\n",
    "plt.ylabel('CO2')\n",
    "plt.show()"
   ]
  },
  {
   "cell_type": "markdown",
   "id": "fa906913-f2f0-445b-982d-2c517c96dfc7",
   "metadata": {},
   "source": [
    "We could observe that the level of carbon emission fluctuates over the time. The highest occuring at 1:00pm"
   ]
  },
  {
   "cell_type": "code",
   "execution_count": 38,
   "id": "3fb5c936-5b81-43ba-aa80-8edd5917e3cb",
   "metadata": {},
   "outputs": [
    {
     "data": {
      "image/png": "[encoded data removed]",
      "text/plain": [
       "<Figure size 432x288 with 2 Axes>"
      ]
     },
     "metadata": {
      "needs_background": "light"
     },
     "output_type": "display_data"
    }
   ],
   "source": [
    "corrmat = data.corr() \n",
    "hm = sns.heatmap(corrmat, cbar=True, annot=True, square=True, fmt='.1f', annot_kws={'size': 5}, yticklabels=data.columns, xticklabels=data.columns,  cmap=\"Spectral_r\") \n",
    "\n",
    "plt.show()"
   ]
  },
  {
   "cell_type": "markdown",
   "id": "a22835ff-371a-4634-a34f-9087310d0269",
   "metadata": {},
   "source": [
    "We could observe a high correlation between fuel allocation method and CO2 per kwh \n",
    "and SO2 per kwh"
   ]
  }
 ],
 "metadata": {
  "kernelspec": {
   "display_name": "Python 3 (ipykernel)",
   "language": "python",
   "name": "python3"
  },
  "language_info": {
   "codemirror_mode": {
    "name": "ipython",
    "version": 3
   },
   "file_extension": ".py",
   "mimetype": "text/x-python",
   "name": "python",
   "nbconvert_exporter": "python",
   "pygments_lexer": "ipython3",
   "version": "3.9.13"
  }
 },
 "nbformat": 4,
 "nbformat_minor": 5
}
